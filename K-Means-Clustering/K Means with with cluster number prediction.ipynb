{
 "cells": [
  {
   "cell_type": "markdown",
   "metadata": {},
   "source": [
    "### K Means Kümeleme\n",
    "\n",
    "1. Önce sklearn'de hazır dataseti yükledik.\n",
    "2. data'yı oluşturduk. 200 örnekli, 2 özellikli, 4 kümeli (merkezli), standard sapma 1.8.\n",
    "3. data bir tuple oldu. Bunun 0. elemanı özelliklerin olduğu eleman, 1. elemanı da bunların aslında hangi kümeye ait oldukları.\n",
    "4. datayı plotlayıp gördük. \n",
    "5. K Means import ettik.\n",
    "6. n_cluster (number of cluster) ile küme sayısını belirledik.\n",
    "7. datayı modele fit ettik.\n",
    "8. modelin oluşturduğu merkez koordinatlarını bulduk.\n",
    "9. Modelin tahminlerini inceledik. (kmeans.labels_)\n",
    "10. Orijinal veri sonucumuzla tahminlerimizi plot üzerinden karşılaştırdık."
   ]
  },
  {
   "cell_type": "code",
   "execution_count": 62,
   "metadata": {},
   "outputs": [],
   "source": [
    "import seaborn as sns\n",
    "import matplotlib.pyplot as plt\n",
    "%matplotlib inline\n",
    "import pandas as pd"
   ]
  },
  {
   "cell_type": "code",
   "execution_count": 20,
   "metadata": {},
   "outputs": [],
   "source": [
    "# sklearn ile yapay bir veri üretip onun üzerinde çalışacağız\n",
    "\n",
    "from sklearn.datasets import make_blobs"
   ]
  },
  {
   "cell_type": "code",
   "execution_count": 21,
   "metadata": {},
   "outputs": [],
   "source": [
    "data=make_blobs(n_samples=200,n_features=2,centers=4,cluster_std=1.8,random_state=101)\n",
    "# centers = küme sayısı"
   ]
  },
  {
   "cell_type": "code",
   "execution_count": 22,
   "metadata": {},
   "outputs": [
    {
     "data": {
      "text/plain": [
       "(array([[-6.42884095e+00,  1.01411174e+01],\n",
       "        [ 5.86867888e+00,  5.20110356e+00],\n",
       "        [-3.76109375e-01,  3.26427943e+00],\n",
       "        [ 2.16679181e+00,  9.56300522e+00],\n",
       "        [ 5.09508570e+00,  7.20752718e+00],\n",
       "        [-1.08788882e+01, -6.11318040e+00],\n",
       "        [ 2.03405554e+00,  9.76664755e+00],\n",
       "        [-1.71798771e+00,  1.41401140e+00],\n",
       "        [ 1.16911341e+00,  8.24556988e+00],\n",
       "        [-1.35185444e+00,  3.13245345e+00],\n",
       "        [-6.18548214e+00,  9.67406555e+00],\n",
       "        [-1.19856602e+00,  2.50408937e+00],\n",
       "        [ 2.90296863e+00,  7.91251003e+00],\n",
       "        [ 2.39250023e+00,  5.38173971e+00],\n",
       "        [-5.27545147e+00,  9.63836659e+00],\n",
       "        [-5.66814687e-01,  5.60262755e-02],\n",
       "        [ 5.97336628e+00,  5.87172022e+00],\n",
       "        [-2.31355268e+00,  5.23980092e-01],\n",
       "        [-1.01344756e+01, -3.43130837e+00],\n",
       "        [-4.54082629e+00,  1.13920174e+01],\n",
       "        [-1.04155833e+01, -5.67545836e+00],\n",
       "        [ 6.64796693e-01,  9.42304718e-02],\n",
       "        [ 2.11460477e+00,  3.55938488e+00],\n",
       "        [-1.11790221e+01, -9.30976605e+00],\n",
       "        [-6.63698251e+00,  6.39426436e+00],\n",
       "        [-7.67422005e+00, -7.26839654e+00],\n",
       "        [-7.98668260e+00, -9.57113308e+00],\n",
       "        [ 1.27983684e+00,  3.53150777e-01],\n",
       "        [ 3.54480244e+00,  7.93535678e+00],\n",
       "        [ 4.03940181e+00,  4.88870433e+00],\n",
       "        [-2.88118898e+00,  9.12919391e+00],\n",
       "        [-9.11009911e+00, -7.69781660e+00],\n",
       "        [ 5.26001172e+00,  4.74007434e+00],\n",
       "        [ 2.05859724e+00, -2.44083039e+00],\n",
       "        [-1.71289834e+00,  2.51221197e+00],\n",
       "        [-5.40562319e+00,  7.47228315e+00],\n",
       "        [-1.11995123e+01, -2.55276744e+00],\n",
       "        [-1.13753641e+01, -4.94525091e+00],\n",
       "        [-1.17821836e+01, -9.50883007e+00],\n",
       "        [ 1.74815503e+00,  2.05595679e+00],\n",
       "        [-9.00392334e+00, -6.20816203e+00],\n",
       "        [-2.86564584e+00,  7.52934153e+00],\n",
       "        [-1.42742293e+00,  8.33519078e+00],\n",
       "        [-3.10933432e+00,  1.01641464e+01],\n",
       "        [ 2.71130095e-01,  2.58303824e+00],\n",
       "        [ 8.21556561e-01,  6.76966806e+00],\n",
       "        [-4.11495481e+00,  8.02621345e+00],\n",
       "        [ 1.55414928e+00,  3.27657687e+00],\n",
       "        [-1.16546211e+01, -8.00673720e+00],\n",
       "        [-1.22009637e+00,  4.90466211e+00],\n",
       "        [ 3.22017630e+00, -5.94926204e-01],\n",
       "        [-5.40452892e+00,  7.19997027e+00],\n",
       "        [ 6.02795351e+00,  4.01696240e+00],\n",
       "        [ 4.02600451e-01,  6.73452012e-01],\n",
       "        [-7.38985009e+00, -5.61883075e+00],\n",
       "        [-1.60537707e+00,  5.98523639e+00],\n",
       "        [ 8.72770362e-01,  4.46205300e+00],\n",
       "        [ 1.03445241e+00,  1.81203497e+00],\n",
       "        [-3.88943018e+00,  5.29262653e+00],\n",
       "        [ 3.16835529e+00,  6.73039191e+00],\n",
       "        [-8.07309689e+00, -7.95924003e+00],\n",
       "        [ 9.16131646e-01,  7.46139251e+00],\n",
       "        [-7.39648298e+00, -4.95353352e+00],\n",
       "        [-1.71632701e+00,  8.48540300e+00],\n",
       "        [ 2.71396283e+00,  8.37361821e+00],\n",
       "        [-2.16570885e+00, -9.80036369e-01],\n",
       "        [-1.19474369e+01, -6.96432616e+00],\n",
       "        [ 4.89539219e+00,  6.07867981e+00],\n",
       "        [ 2.86177832e+00,  8.22611192e+00],\n",
       "        [-9.15392597e+00, -6.26781804e+00],\n",
       "        [ 2.03477094e+00,  8.20236427e+00],\n",
       "        [ 7.56601080e-01,  5.00732585e+00],\n",
       "        [-8.84039494e+00, -5.35549354e+00],\n",
       "        [-3.02650610e+00,  3.90066592e+00],\n",
       "        [-8.88037875e+00, -6.13184717e+00],\n",
       "        [ 5.20737777e+00,  6.42515996e+00],\n",
       "        [ 3.19207745e+00,  1.04409077e+01],\n",
       "        [ 3.54100315e-02,  2.28780746e+00],\n",
       "        [-6.94760830e+00,  1.03023440e+01],\n",
       "        [-3.30473029e+00,  2.74557144e+00],\n",
       "        [-6.95473895e-01,  3.94656058e+00],\n",
       "        [-8.33457235e+00, -6.05391550e+00],\n",
       "        [ 5.51284070e+00,  8.53538580e+00],\n",
       "        [-6.27688951e+00, -5.31758277e+00],\n",
       "        [ 6.67624111e-01,  4.73820362e-02],\n",
       "        [-1.03161306e+00,  7.89798431e-01],\n",
       "        [-1.48136390e+00,  7.81302690e-02],\n",
       "        [-5.35676677e+00,  6.98316723e+00],\n",
       "        [ 1.85230075e+00,  3.93319729e+00],\n",
       "        [-1.03889624e+01, -2.75765759e+00],\n",
       "        [-8.37419034e+00, -9.48799296e+00],\n",
       "        [-8.21095227e+00, -6.52257701e+00],\n",
       "        [-9.80094161e+00, -2.08038454e+00],\n",
       "        [-6.22493829e-01,  5.50912500e+00],\n",
       "        [ 2.71883687e-01,  4.90522990e+00],\n",
       "        [-8.72228610e+00, -7.70447881e+00],\n",
       "        [ 5.36248494e+00,  9.10638480e+00],\n",
       "        [-3.95284076e+00,  7.08183115e+00],\n",
       "        [-8.26204953e+00, -5.92347393e+00],\n",
       "        [ 7.60329764e+00,  4.39690494e+00],\n",
       "        [-1.55623061e+00,  3.74032798e+00],\n",
       "        [-1.08189070e+01, -6.37070754e+00],\n",
       "        [ 1.33375749e+00,  3.25801024e+00],\n",
       "        [-3.22271663e+00, -1.47041326e-01],\n",
       "        [ 1.09263748e-02,  6.37797424e+00],\n",
       "        [-1.21138032e+00,  4.18893447e+00],\n",
       "        [-9.49249242e+00, -5.33043171e+00],\n",
       "        [ 8.71855704e+00,  9.42068808e+00],\n",
       "        [-9.28377343e+00, -7.31691088e+00],\n",
       "        [-9.51273313e+00, -6.54720909e+00],\n",
       "        [ 5.01871366e+00,  2.64366773e+00],\n",
       "        [-2.69943732e+00,  7.33651484e+00],\n",
       "        [-4.21294044e+00,  6.69844656e+00],\n",
       "        [ 2.32686550e+00,  8.41007576e+00],\n",
       "        [-9.33392485e+00, -1.03767705e+01],\n",
       "        [ 4.09116118e+00,  6.24501935e+00],\n",
       "        [-3.44377911e+00,  8.15200300e+00],\n",
       "        [-6.56254983e+00,  9.77730406e+00],\n",
       "        [ 1.20080532e+00,  6.94341290e+00],\n",
       "        [-1.14313099e+00,  8.18669136e+00],\n",
       "        [ 1.02282712e+00,  5.16458509e+00],\n",
       "        [-4.41592469e+00,  6.35654190e+00],\n",
       "        [-1.45990175e+00,  1.76759085e+00],\n",
       "        [-6.01113440e+00,  7.61084526e+00],\n",
       "        [-3.49761061e-01,  1.82795716e+00],\n",
       "        [ 5.33062618e+00,  5.70970077e+00],\n",
       "        [-6.16705213e+00,  1.01703782e+01],\n",
       "        [-2.74298212e+00, -6.73063211e-01],\n",
       "        [-9.88392998e+00, -7.61018334e+00],\n",
       "        [-2.30611367e+00,  6.56412841e+00],\n",
       "        [-4.18810225e+00,  6.78643776e+00],\n",
       "        [-3.63372128e+00,  8.71114106e+00],\n",
       "        [ 6.28400899e-01,  1.74545508e+00],\n",
       "        [-8.83495735e+00, -8.48305488e+00],\n",
       "        [-1.43571057e+01, -3.82895508e+00],\n",
       "        [-4.10513812e+00,  6.59306099e+00],\n",
       "        [ 3.46810859e+00,  4.27477213e+00],\n",
       "        [-3.83634067e+00,  3.99058382e+00],\n",
       "        [ 3.86879737e+00,  9.05702488e+00],\n",
       "        [ 1.52734733e+00,  4.44529411e-01],\n",
       "        [-1.01203801e+01, -7.30634015e+00],\n",
       "        [ 5.30579523e+00,  3.36726770e+00],\n",
       "        [-9.74381724e+00, -5.16531539e+00],\n",
       "        [-5.21734714e-01,  8.77631220e+00],\n",
       "        [-1.32773569e+00,  7.98200905e+00],\n",
       "        [ 2.26042193e+00,  6.22167436e+00],\n",
       "        [-1.33860111e+00,  4.76650719e+00],\n",
       "        [-8.11827275e+00, -8.12313116e+00],\n",
       "        [-3.80021292e+00,  7.47588731e+00],\n",
       "        [-5.33110685e+00,  8.09237748e+00],\n",
       "        [-2.50033965e+00,  1.10368807e+01],\n",
       "        [-2.16845912e+00,  9.21545979e+00],\n",
       "        [ 8.52592570e-02,  2.11630185e+00],\n",
       "        [ 3.42604328e+00,  4.85412683e+00],\n",
       "        [ 1.62539023e+00, -7.88195931e-01],\n",
       "        [-8.45546407e+00,  7.81479304e+00],\n",
       "        [ 1.94991080e+00,  4.77920618e+00],\n",
       "        [ 2.66085026e+00,  8.85418636e+00],\n",
       "        [ 3.30975285e+00,  7.20496849e+00],\n",
       "        [ 1.48322247e+00, -2.15828086e-01],\n",
       "        [ 4.18471184e+00,  7.42058154e+00],\n",
       "        [ 1.78184320e+00,  1.54467915e+00],\n",
       "        [-2.16128362e+00,  4.08184363e+00],\n",
       "        [-6.73918279e+00,  4.14835615e+00],\n",
       "        [-1.24514261e+01, -5.96841529e+00],\n",
       "        [-6.08197913e+00,  6.17032027e+00],\n",
       "        [-1.37015897e+00,  2.28590470e+00],\n",
       "        [ 5.51872307e+00,  7.27154783e+00],\n",
       "        [-3.03385808e+00,  8.92618442e+00],\n",
       "        [ 4.20669615e+00,  3.14885797e-01],\n",
       "        [ 4.11969631e+00,  7.79152164e+00],\n",
       "        [ 1.47778918e+00,  2.00671508e+00],\n",
       "        [-4.75152705e+00,  8.00144754e+00],\n",
       "        [-1.07466987e-01,  7.34698260e+00],\n",
       "        [ 1.17780584e-01,  4.83651037e+00],\n",
       "        [-7.25153130e+00,  5.50680568e+00],\n",
       "        [ 3.92000057e+00,  7.87622351e+00],\n",
       "        [ 1.14783058e+00,  7.25692451e+00],\n",
       "        [-5.77733594e+00, -8.45301197e+00],\n",
       "        [ 1.75952674e+00,  6.67729832e+00],\n",
       "        [-3.30799302e+00,  8.82613007e+00],\n",
       "        [-7.87501869e+00, -9.37924348e+00],\n",
       "        [-8.02054658e+00, -7.84568360e+00],\n",
       "        [-8.56456002e-01,  1.05365275e+01],\n",
       "        [-9.13930933e+00, -5.07011409e+00],\n",
       "        [-1.01147018e+01, -9.56847340e+00],\n",
       "        [-9.07497230e+00, -2.42418980e+00],\n",
       "        [-9.65620091e+00, -8.27162550e+00],\n",
       "        [-1.14063629e+01, -1.00039828e+01],\n",
       "        [ 5.92620742e-01,  5.50345267e-01],\n",
       "        [-9.93363386e+00, -4.65668813e+00],\n",
       "        [ 5.48533076e+00,  7.60283616e+00],\n",
       "        [ 4.43919524e+00,  8.13205419e+00],\n",
       "        [-3.65443003e+00,  7.20898410e+00],\n",
       "        [-8.81214493e+00, -6.21627131e+00],\n",
       "        [ 6.71402334e-01,  4.97511492e+00],\n",
       "        [ 6.56000194e+00,  8.35132137e+00],\n",
       "        [ 5.13497095e+00,  9.12541881e+00],\n",
       "        [-9.26198510e+00, -4.33610417e+00],\n",
       "        [ 2.17474403e+00,  1.13147551e+00]]),\n",
       " array([3, 2, 0, 2, 2, 1, 2, 0, 2, 0, 3, 0, 2, 2, 3, 0, 2, 0, 1, 3, 1, 0,\n",
       "        0, 1, 3, 1, 1, 0, 2, 2, 3, 1, 2, 0, 0, 3, 1, 1, 1, 2, 1, 3, 3, 3,\n",
       "        0, 3, 3, 0, 1, 2, 0, 3, 2, 0, 1, 3, 0, 0, 3, 2, 1, 2, 1, 3, 2, 0,\n",
       "        1, 2, 2, 1, 2, 0, 1, 3, 1, 2, 2, 0, 3, 0, 0, 1, 2, 1, 0, 0, 0, 3,\n",
       "        2, 1, 1, 1, 1, 3, 0, 1, 2, 3, 1, 2, 0, 1, 0, 0, 2, 0, 1, 2, 1, 1,\n",
       "        0, 3, 3, 2, 1, 2, 3, 3, 2, 3, 0, 3, 0, 3, 0, 2, 3, 0, 1, 3, 3, 3,\n",
       "        0, 1, 1, 3, 2, 3, 2, 0, 1, 2, 1, 3, 3, 2, 0, 1, 3, 3, 3, 3, 0, 2,\n",
       "        0, 3, 2, 2, 2, 0, 2, 0, 0, 3, 1, 3, 0, 2, 3, 0, 2, 0, 3, 3, 0, 3,\n",
       "        2, 2, 1, 2, 3, 1, 1, 3, 1, 1, 1, 1, 1, 0, 1, 2, 2, 3, 1, 0, 2, 2,\n",
       "        1, 0]))"
      ]
     },
     "execution_count": 22,
     "metadata": {},
     "output_type": "execute_result"
    }
   ],
   "source": [
    "data # data bir tuple oldu."
   ]
  },
  {
   "cell_type": "code",
   "execution_count": 23,
   "metadata": {},
   "outputs": [
    {
     "data": {
      "text/plain": [
       "array([[-6.42884095e+00,  1.01411174e+01],\n",
       "       [ 5.86867888e+00,  5.20110356e+00],\n",
       "       [-3.76109375e-01,  3.26427943e+00],\n",
       "       [ 2.16679181e+00,  9.56300522e+00],\n",
       "       [ 5.09508570e+00,  7.20752718e+00],\n",
       "       [-1.08788882e+01, -6.11318040e+00],\n",
       "       [ 2.03405554e+00,  9.76664755e+00],\n",
       "       [-1.71798771e+00,  1.41401140e+00],\n",
       "       [ 1.16911341e+00,  8.24556988e+00],\n",
       "       [-1.35185444e+00,  3.13245345e+00],\n",
       "       [-6.18548214e+00,  9.67406555e+00],\n",
       "       [-1.19856602e+00,  2.50408937e+00],\n",
       "       [ 2.90296863e+00,  7.91251003e+00],\n",
       "       [ 2.39250023e+00,  5.38173971e+00],\n",
       "       [-5.27545147e+00,  9.63836659e+00],\n",
       "       [-5.66814687e-01,  5.60262755e-02],\n",
       "       [ 5.97336628e+00,  5.87172022e+00],\n",
       "       [-2.31355268e+00,  5.23980092e-01],\n",
       "       [-1.01344756e+01, -3.43130837e+00],\n",
       "       [-4.54082629e+00,  1.13920174e+01],\n",
       "       [-1.04155833e+01, -5.67545836e+00],\n",
       "       [ 6.64796693e-01,  9.42304718e-02],\n",
       "       [ 2.11460477e+00,  3.55938488e+00],\n",
       "       [-1.11790221e+01, -9.30976605e+00],\n",
       "       [-6.63698251e+00,  6.39426436e+00],\n",
       "       [-7.67422005e+00, -7.26839654e+00],\n",
       "       [-7.98668260e+00, -9.57113308e+00],\n",
       "       [ 1.27983684e+00,  3.53150777e-01],\n",
       "       [ 3.54480244e+00,  7.93535678e+00],\n",
       "       [ 4.03940181e+00,  4.88870433e+00],\n",
       "       [-2.88118898e+00,  9.12919391e+00],\n",
       "       [-9.11009911e+00, -7.69781660e+00],\n",
       "       [ 5.26001172e+00,  4.74007434e+00],\n",
       "       [ 2.05859724e+00, -2.44083039e+00],\n",
       "       [-1.71289834e+00,  2.51221197e+00],\n",
       "       [-5.40562319e+00,  7.47228315e+00],\n",
       "       [-1.11995123e+01, -2.55276744e+00],\n",
       "       [-1.13753641e+01, -4.94525091e+00],\n",
       "       [-1.17821836e+01, -9.50883007e+00],\n",
       "       [ 1.74815503e+00,  2.05595679e+00],\n",
       "       [-9.00392334e+00, -6.20816203e+00],\n",
       "       [-2.86564584e+00,  7.52934153e+00],\n",
       "       [-1.42742293e+00,  8.33519078e+00],\n",
       "       [-3.10933432e+00,  1.01641464e+01],\n",
       "       [ 2.71130095e-01,  2.58303824e+00],\n",
       "       [ 8.21556561e-01,  6.76966806e+00],\n",
       "       [-4.11495481e+00,  8.02621345e+00],\n",
       "       [ 1.55414928e+00,  3.27657687e+00],\n",
       "       [-1.16546211e+01, -8.00673720e+00],\n",
       "       [-1.22009637e+00,  4.90466211e+00],\n",
       "       [ 3.22017630e+00, -5.94926204e-01],\n",
       "       [-5.40452892e+00,  7.19997027e+00],\n",
       "       [ 6.02795351e+00,  4.01696240e+00],\n",
       "       [ 4.02600451e-01,  6.73452012e-01],\n",
       "       [-7.38985009e+00, -5.61883075e+00],\n",
       "       [-1.60537707e+00,  5.98523639e+00],\n",
       "       [ 8.72770362e-01,  4.46205300e+00],\n",
       "       [ 1.03445241e+00,  1.81203497e+00],\n",
       "       [-3.88943018e+00,  5.29262653e+00],\n",
       "       [ 3.16835529e+00,  6.73039191e+00],\n",
       "       [-8.07309689e+00, -7.95924003e+00],\n",
       "       [ 9.16131646e-01,  7.46139251e+00],\n",
       "       [-7.39648298e+00, -4.95353352e+00],\n",
       "       [-1.71632701e+00,  8.48540300e+00],\n",
       "       [ 2.71396283e+00,  8.37361821e+00],\n",
       "       [-2.16570885e+00, -9.80036369e-01],\n",
       "       [-1.19474369e+01, -6.96432616e+00],\n",
       "       [ 4.89539219e+00,  6.07867981e+00],\n",
       "       [ 2.86177832e+00,  8.22611192e+00],\n",
       "       [-9.15392597e+00, -6.26781804e+00],\n",
       "       [ 2.03477094e+00,  8.20236427e+00],\n",
       "       [ 7.56601080e-01,  5.00732585e+00],\n",
       "       [-8.84039494e+00, -5.35549354e+00],\n",
       "       [-3.02650610e+00,  3.90066592e+00],\n",
       "       [-8.88037875e+00, -6.13184717e+00],\n",
       "       [ 5.20737777e+00,  6.42515996e+00],\n",
       "       [ 3.19207745e+00,  1.04409077e+01],\n",
       "       [ 3.54100315e-02,  2.28780746e+00],\n",
       "       [-6.94760830e+00,  1.03023440e+01],\n",
       "       [-3.30473029e+00,  2.74557144e+00],\n",
       "       [-6.95473895e-01,  3.94656058e+00],\n",
       "       [-8.33457235e+00, -6.05391550e+00],\n",
       "       [ 5.51284070e+00,  8.53538580e+00],\n",
       "       [-6.27688951e+00, -5.31758277e+00],\n",
       "       [ 6.67624111e-01,  4.73820362e-02],\n",
       "       [-1.03161306e+00,  7.89798431e-01],\n",
       "       [-1.48136390e+00,  7.81302690e-02],\n",
       "       [-5.35676677e+00,  6.98316723e+00],\n",
       "       [ 1.85230075e+00,  3.93319729e+00],\n",
       "       [-1.03889624e+01, -2.75765759e+00],\n",
       "       [-8.37419034e+00, -9.48799296e+00],\n",
       "       [-8.21095227e+00, -6.52257701e+00],\n",
       "       [-9.80094161e+00, -2.08038454e+00],\n",
       "       [-6.22493829e-01,  5.50912500e+00],\n",
       "       [ 2.71883687e-01,  4.90522990e+00],\n",
       "       [-8.72228610e+00, -7.70447881e+00],\n",
       "       [ 5.36248494e+00,  9.10638480e+00],\n",
       "       [-3.95284076e+00,  7.08183115e+00],\n",
       "       [-8.26204953e+00, -5.92347393e+00],\n",
       "       [ 7.60329764e+00,  4.39690494e+00],\n",
       "       [-1.55623061e+00,  3.74032798e+00],\n",
       "       [-1.08189070e+01, -6.37070754e+00],\n",
       "       [ 1.33375749e+00,  3.25801024e+00],\n",
       "       [-3.22271663e+00, -1.47041326e-01],\n",
       "       [ 1.09263748e-02,  6.37797424e+00],\n",
       "       [-1.21138032e+00,  4.18893447e+00],\n",
       "       [-9.49249242e+00, -5.33043171e+00],\n",
       "       [ 8.71855704e+00,  9.42068808e+00],\n",
       "       [-9.28377343e+00, -7.31691088e+00],\n",
       "       [-9.51273313e+00, -6.54720909e+00],\n",
       "       [ 5.01871366e+00,  2.64366773e+00],\n",
       "       [-2.69943732e+00,  7.33651484e+00],\n",
       "       [-4.21294044e+00,  6.69844656e+00],\n",
       "       [ 2.32686550e+00,  8.41007576e+00],\n",
       "       [-9.33392485e+00, -1.03767705e+01],\n",
       "       [ 4.09116118e+00,  6.24501935e+00],\n",
       "       [-3.44377911e+00,  8.15200300e+00],\n",
       "       [-6.56254983e+00,  9.77730406e+00],\n",
       "       [ 1.20080532e+00,  6.94341290e+00],\n",
       "       [-1.14313099e+00,  8.18669136e+00],\n",
       "       [ 1.02282712e+00,  5.16458509e+00],\n",
       "       [-4.41592469e+00,  6.35654190e+00],\n",
       "       [-1.45990175e+00,  1.76759085e+00],\n",
       "       [-6.01113440e+00,  7.61084526e+00],\n",
       "       [-3.49761061e-01,  1.82795716e+00],\n",
       "       [ 5.33062618e+00,  5.70970077e+00],\n",
       "       [-6.16705213e+00,  1.01703782e+01],\n",
       "       [-2.74298212e+00, -6.73063211e-01],\n",
       "       [-9.88392998e+00, -7.61018334e+00],\n",
       "       [-2.30611367e+00,  6.56412841e+00],\n",
       "       [-4.18810225e+00,  6.78643776e+00],\n",
       "       [-3.63372128e+00,  8.71114106e+00],\n",
       "       [ 6.28400899e-01,  1.74545508e+00],\n",
       "       [-8.83495735e+00, -8.48305488e+00],\n",
       "       [-1.43571057e+01, -3.82895508e+00],\n",
       "       [-4.10513812e+00,  6.59306099e+00],\n",
       "       [ 3.46810859e+00,  4.27477213e+00],\n",
       "       [-3.83634067e+00,  3.99058382e+00],\n",
       "       [ 3.86879737e+00,  9.05702488e+00],\n",
       "       [ 1.52734733e+00,  4.44529411e-01],\n",
       "       [-1.01203801e+01, -7.30634015e+00],\n",
       "       [ 5.30579523e+00,  3.36726770e+00],\n",
       "       [-9.74381724e+00, -5.16531539e+00],\n",
       "       [-5.21734714e-01,  8.77631220e+00],\n",
       "       [-1.32773569e+00,  7.98200905e+00],\n",
       "       [ 2.26042193e+00,  6.22167436e+00],\n",
       "       [-1.33860111e+00,  4.76650719e+00],\n",
       "       [-8.11827275e+00, -8.12313116e+00],\n",
       "       [-3.80021292e+00,  7.47588731e+00],\n",
       "       [-5.33110685e+00,  8.09237748e+00],\n",
       "       [-2.50033965e+00,  1.10368807e+01],\n",
       "       [-2.16845912e+00,  9.21545979e+00],\n",
       "       [ 8.52592570e-02,  2.11630185e+00],\n",
       "       [ 3.42604328e+00,  4.85412683e+00],\n",
       "       [ 1.62539023e+00, -7.88195931e-01],\n",
       "       [-8.45546407e+00,  7.81479304e+00],\n",
       "       [ 1.94991080e+00,  4.77920618e+00],\n",
       "       [ 2.66085026e+00,  8.85418636e+00],\n",
       "       [ 3.30975285e+00,  7.20496849e+00],\n",
       "       [ 1.48322247e+00, -2.15828086e-01],\n",
       "       [ 4.18471184e+00,  7.42058154e+00],\n",
       "       [ 1.78184320e+00,  1.54467915e+00],\n",
       "       [-2.16128362e+00,  4.08184363e+00],\n",
       "       [-6.73918279e+00,  4.14835615e+00],\n",
       "       [-1.24514261e+01, -5.96841529e+00],\n",
       "       [-6.08197913e+00,  6.17032027e+00],\n",
       "       [-1.37015897e+00,  2.28590470e+00],\n",
       "       [ 5.51872307e+00,  7.27154783e+00],\n",
       "       [-3.03385808e+00,  8.92618442e+00],\n",
       "       [ 4.20669615e+00,  3.14885797e-01],\n",
       "       [ 4.11969631e+00,  7.79152164e+00],\n",
       "       [ 1.47778918e+00,  2.00671508e+00],\n",
       "       [-4.75152705e+00,  8.00144754e+00],\n",
       "       [-1.07466987e-01,  7.34698260e+00],\n",
       "       [ 1.17780584e-01,  4.83651037e+00],\n",
       "       [-7.25153130e+00,  5.50680568e+00],\n",
       "       [ 3.92000057e+00,  7.87622351e+00],\n",
       "       [ 1.14783058e+00,  7.25692451e+00],\n",
       "       [-5.77733594e+00, -8.45301197e+00],\n",
       "       [ 1.75952674e+00,  6.67729832e+00],\n",
       "       [-3.30799302e+00,  8.82613007e+00],\n",
       "       [-7.87501869e+00, -9.37924348e+00],\n",
       "       [-8.02054658e+00, -7.84568360e+00],\n",
       "       [-8.56456002e-01,  1.05365275e+01],\n",
       "       [-9.13930933e+00, -5.07011409e+00],\n",
       "       [-1.01147018e+01, -9.56847340e+00],\n",
       "       [-9.07497230e+00, -2.42418980e+00],\n",
       "       [-9.65620091e+00, -8.27162550e+00],\n",
       "       [-1.14063629e+01, -1.00039828e+01],\n",
       "       [ 5.92620742e-01,  5.50345267e-01],\n",
       "       [-9.93363386e+00, -4.65668813e+00],\n",
       "       [ 5.48533076e+00,  7.60283616e+00],\n",
       "       [ 4.43919524e+00,  8.13205419e+00],\n",
       "       [-3.65443003e+00,  7.20898410e+00],\n",
       "       [-8.81214493e+00, -6.21627131e+00],\n",
       "       [ 6.71402334e-01,  4.97511492e+00],\n",
       "       [ 6.56000194e+00,  8.35132137e+00],\n",
       "       [ 5.13497095e+00,  9.12541881e+00],\n",
       "       [-9.26198510e+00, -4.33610417e+00],\n",
       "       [ 2.17474403e+00,  1.13147551e+00]])"
      ]
     },
     "execution_count": 23,
     "metadata": {},
     "output_type": "execute_result"
    }
   ],
   "source": [
    "data[0] #2 özellikli bir numpy array"
   ]
  },
  {
   "cell_type": "code",
   "execution_count": 24,
   "metadata": {},
   "outputs": [
    {
     "data": {
      "text/plain": [
       "(200, 2)"
      ]
     },
     "execution_count": 24,
     "metadata": {},
     "output_type": "execute_result"
    }
   ],
   "source": [
    "data[0].shape #200'e 2 lik bir numpy array"
   ]
  },
  {
   "cell_type": "code",
   "execution_count": 25,
   "metadata": {},
   "outputs": [
    {
     "data": {
      "text/plain": [
       "(200,)"
      ]
     },
     "execution_count": 25,
     "metadata": {},
     "output_type": "execute_result"
    }
   ],
   "source": [
    "data[1].shape #bu da kümelerin (4 küme) olduğu 200 lük bir array"
   ]
  },
  {
   "cell_type": "code",
   "execution_count": 26,
   "metadata": {},
   "outputs": [
    {
     "data": {
      "text/plain": [
       "array([3, 2, 0, 2, 2, 1, 2, 0, 2, 0, 3, 0, 2, 2, 3, 0, 2, 0, 1, 3, 1, 0,\n",
       "       0, 1, 3, 1, 1, 0, 2, 2, 3, 1, 2, 0, 0, 3, 1, 1, 1, 2, 1, 3, 3, 3,\n",
       "       0, 3, 3, 0, 1, 2, 0, 3, 2, 0, 1, 3, 0, 0, 3, 2, 1, 2, 1, 3, 2, 0,\n",
       "       1, 2, 2, 1, 2, 0, 1, 3, 1, 2, 2, 0, 3, 0, 0, 1, 2, 1, 0, 0, 0, 3,\n",
       "       2, 1, 1, 1, 1, 3, 0, 1, 2, 3, 1, 2, 0, 1, 0, 0, 2, 0, 1, 2, 1, 1,\n",
       "       0, 3, 3, 2, 1, 2, 3, 3, 2, 3, 0, 3, 0, 3, 0, 2, 3, 0, 1, 3, 3, 3,\n",
       "       0, 1, 1, 3, 2, 3, 2, 0, 1, 2, 1, 3, 3, 2, 0, 1, 3, 3, 3, 3, 0, 2,\n",
       "       0, 3, 2, 2, 2, 0, 2, 0, 0, 3, 1, 3, 0, 2, 3, 0, 2, 0, 3, 3, 0, 3,\n",
       "       2, 2, 1, 2, 3, 1, 1, 3, 1, 1, 1, 1, 1, 0, 1, 2, 2, 3, 1, 0, 2, 2,\n",
       "       1, 0])"
      ]
     },
     "execution_count": 26,
     "metadata": {},
     "output_type": "execute_result"
    }
   ],
   "source": [
    "data[1]"
   ]
  },
  {
   "cell_type": "code",
   "execution_count": 28,
   "metadata": {},
   "outputs": [
    {
     "data": {
      "text/plain": [
       "<matplotlib.collections.PathCollection at 0x69bc548>"
      ]
     },
     "execution_count": 28,
     "metadata": {},
     "output_type": "execute_result"
    },
    {
     "data": {
      "image/png": "[encoded data removed]",
      "text/plain": [
       "<Figure size 432x288 with 1 Axes>"
      ]
     },
     "metadata": {
      "needs_background": "light"
     },
     "output_type": "display_data"
    }
   ],
   "source": [
    "plt.scatter(data[0][:,0],data[0][:,1], c=data[1], cmap=\"rainbow\")"
   ]
  },
  {
   "cell_type": "code",
   "execution_count": 30,
   "metadata": {},
   "outputs": [],
   "source": [
    "from sklearn.cluster import KMeans"
   ]
  },
  {
   "cell_type": "code",
   "execution_count": 31,
   "metadata": {},
   "outputs": [],
   "source": [
    "kmeans = KMeans(2)"
   ]
  },
  {
   "cell_type": "code",
   "execution_count": 32,
   "metadata": {},
   "outputs": [
    {
     "data": {
      "text/plain": [
       "KMeans(algorithm='auto', copy_x=True, init='k-means++', max_iter=300,\n",
       "       n_clusters=2, n_init=10, n_jobs=None, precompute_distances='auto',\n",
       "       random_state=None, tol=0.0001, verbose=0)"
      ]
     },
     "execution_count": 32,
     "metadata": {},
     "output_type": "execute_result"
    }
   ],
   "source": [
    "kmeans.fit(data[0])"
   ]
  },
  {
   "cell_type": "code",
   "execution_count": 33,
   "metadata": {},
   "outputs": [
    {
     "data": {
      "text/plain": [
       "array([[-0.0336134 ,  5.54542558],\n",
       "       [-9.46941837, -6.56081545]])"
      ]
     },
     "execution_count": 33,
     "metadata": {},
     "output_type": "execute_result"
    }
   ],
   "source": [
    "kmeans.cluster_centers_"
   ]
  },
  {
   "cell_type": "code",
   "execution_count": 34,
   "metadata": {},
   "outputs": [
    {
     "data": {
      "text/plain": [
       "array([0, 0, 0, 0, 0, 1, 0, 0, 0, 0, 0, 0, 0, 0, 0, 0, 0, 0, 1, 0, 1, 0,\n",
       "       0, 1, 0, 1, 1, 0, 0, 0, 0, 1, 0, 0, 0, 0, 1, 1, 1, 0, 1, 0, 0, 0,\n",
       "       0, 0, 0, 0, 1, 0, 0, 0, 0, 0, 1, 0, 0, 0, 0, 0, 1, 0, 1, 0, 0, 0,\n",
       "       1, 0, 0, 1, 0, 0, 1, 0, 1, 0, 0, 0, 0, 0, 0, 1, 0, 1, 0, 0, 0, 0,\n",
       "       0, 1, 1, 1, 1, 0, 0, 1, 0, 0, 1, 0, 0, 1, 0, 0, 0, 0, 1, 0, 1, 1,\n",
       "       0, 0, 0, 0, 1, 0, 0, 0, 0, 0, 0, 0, 0, 0, 0, 0, 0, 0, 1, 0, 0, 0,\n",
       "       0, 1, 1, 0, 0, 0, 0, 0, 1, 0, 1, 0, 0, 0, 0, 1, 0, 0, 0, 0, 0, 0,\n",
       "       0, 0, 0, 0, 0, 0, 0, 0, 0, 0, 1, 0, 0, 0, 0, 0, 0, 0, 0, 0, 0, 0,\n",
       "       0, 0, 1, 0, 0, 1, 1, 0, 1, 1, 1, 1, 1, 0, 1, 0, 0, 0, 1, 0, 0, 0,\n",
       "       1, 0])"
      ]
     },
     "execution_count": 34,
     "metadata": {},
     "output_type": "execute_result"
    }
   ],
   "source": [
    "kmeans.labels_ # bunlar bizim predictied value'larımız. \n",
    "# normalde bize doğru sonuçlar verilmez. burada karşılaştırma yapabilmek için verdi."
   ]
  },
  {
   "cell_type": "code",
   "execution_count": 35,
   "metadata": {},
   "outputs": [
    {
     "data": {
      "text/plain": [
       "<matplotlib.collections.PathCollection at 0xc31d148>"
      ]
     },
     "execution_count": 35,
     "metadata": {},
     "output_type": "execute_result"
    },
    {
     "data": {
      "image/png": "[encoded data removed]",
      "text/plain": [
       "<Figure size 720x432 with 2 Axes>"
      ]
     },
     "metadata": {
      "needs_background": "light"
     },
     "output_type": "display_data"
    }
   ],
   "source": [
    "fig, (ax1,ax2) = plt.subplots(1,2,sharey=True,figsize=(10,6))\n",
    "\n",
    "ax1.set_title(\"K Means\")\n",
    "ax1.scatter(data[0][:,0],data[0][:,1],c=kmeans.labels_,cmap=\"rainbow\")\n",
    "\n",
    "ax2.set_title(\"Original\")\n",
    "ax2.scatter(data[0][:,0],data[0][:,1],c=data[1],cmap=\"rainbow\")"
   ]
  },
  {
   "cell_type": "code",
   "execution_count": 37,
   "metadata": {},
   "outputs": [],
   "source": [
    "from sklearn.preprocessing import StandardScaler"
   ]
  },
  {
   "cell_type": "code",
   "execution_count": 38,
   "metadata": {},
   "outputs": [],
   "source": [
    "scaler=StandardScaler()"
   ]
  },
  {
   "cell_type": "code",
   "execution_count": 41,
   "metadata": {},
   "outputs": [],
   "source": [
    "data_scaled=scaler.fit_transform(data[0])"
   ]
  },
  {
   "cell_type": "code",
   "execution_count": 42,
   "metadata": {},
   "outputs": [
    {
     "data": {
      "text/plain": [
       "array([[-7.74096520e-01,  1.27068730e+00],\n",
       "       [ 1.58438109e+00,  4.47149481e-01],\n",
       "       [ 3.86725509e-01,  1.24266191e-01],\n",
       "       [ 8.74415352e-01,  1.17431161e+00],\n",
       "       [ 1.43601767e+00,  7.81635534e-01],\n",
       "       [-1.62754802e+00, -1.43902757e+00],\n",
       "       [ 8.48958550e-01,  1.20826033e+00],\n",
       "       [ 1.29373614e-01, -1.84187539e-01],\n",
       "       [ 6.83075780e-01,  9.54685135e-01],\n",
       "       [ 1.99592419e-01,  1.02289800e-01],\n",
       "       [-7.27423994e-01,  1.19282621e+00],\n",
       "       [ 2.28990811e-01, -2.46326446e-03],\n",
       "       [ 1.01560289e+00,  8.99161528e-01],\n",
       "       [ 9.17702800e-01,  4.77262898e-01],\n",
       "       [-5.52893927e-01,  1.18687492e+00],\n",
       "       [ 3.50151125e-01, -4.10573971e-01],\n",
       "       [ 1.60445855e+00,  5.58946370e-01],\n",
       "       [ 1.51532948e-02, -3.32562516e-01],\n",
       "       [-1.48478099e+00, -9.91939137e-01],\n",
       "       [-4.12003971e-01,  1.47922183e+00],\n",
       "       [-1.53869317e+00, -1.36605598e+00],\n",
       "       [ 5.86355490e-01, -4.04205041e-01],\n",
       "       [ 8.64406670e-01,  1.73462512e-01],\n",
       "       [-1.68510915e+00, -1.97192267e+00],\n",
       "       [-8.14014912e-01,  6.46058446e-01],\n",
       "       [-1.01294132e+00, -1.63161087e+00],\n",
       "       [-1.07286690e+00, -2.01549454e+00],\n",
       "       [ 7.04310854e-01, -3.61041060e-01],\n",
       "       [ 1.13869687e+00,  9.02970255e-01],\n",
       "       [ 1.23355352e+00,  3.95070157e-01],\n",
       "       [-9.37107289e-02,  1.10199197e+00],\n",
       "       [-1.28832113e+00, -1.70319846e+00],\n",
       "       [ 1.46764797e+00,  3.70292410e-01],\n",
       "       [ 8.53665275e-01, -8.26818936e-01],\n",
       "       [ 1.30349680e-01, -1.10916462e-03],\n",
       "       [-5.77858887e-01,  8.25772365e-01],\n",
       "       [-1.68903885e+00, -8.45479692e-01],\n",
       "       [-1.72276457e+00, -1.24432485e+00],\n",
       "       [-1.80078637e+00, -2.00510815e+00],\n",
       "       [ 7.94127173e-01, -7.71703670e-02],\n",
       "       [-1.26795823e+00, -1.45486173e+00],\n",
       "       [-9.07297907e-02,  8.35284429e-01],\n",
       "       [ 1.85099530e-01,  9.69625619e-01],\n",
       "       [-1.37465542e-01,  1.27452641e+00],\n",
       "       [ 5.10856213e-01,  1.06981119e-02],\n",
       "       [ 6.16419653e-01,  7.08641094e-01],\n",
       "       [-3.30328286e-01,  9.18116751e-01],\n",
       "       [ 7.56919815e-01,  1.26316269e-01],\n",
       "       [-1.77632183e+00, -1.75469787e+00],\n",
       "       [ 2.24861616e-01,  3.97730441e-01],\n",
       "       [ 1.07643851e+00, -5.19092692e-01],\n",
       "       [-5.77649023e-01,  7.80375740e-01],\n",
       "       [ 1.61492755e+00,  2.49744158e-01],\n",
       "       [ 5.36070232e-01, -3.07644412e-01],\n",
       "       [-9.58403483e-01, -1.35661573e+00],\n",
       "       [ 1.50970627e-01,  5.77870378e-01],\n",
       "       [ 6.26241683e-01,  3.23944141e-01],\n",
       "       [ 6.57249846e-01, -1.17833987e-01],\n",
       "       [-2.87076086e-01,  4.62407055e-01],\n",
       "       [ 1.06650002e+00,  7.02093461e-01],\n",
       "       [-1.08943985e+00, -1.74677973e+00],\n",
       "       [ 6.34557719e-01,  8.23956813e-01],\n",
       "       [-9.59675571e-01, -1.24570563e+00],\n",
       "       [ 1.29692112e-01,  9.94667137e-01],\n",
       "       [ 9.79354446e-01,  9.76031764e-01],\n",
       "       [ 4.35074977e-02, -5.83293481e-01],\n",
       "       [-1.83247944e+00, -1.58092003e+00],\n",
       "       [ 1.39771948e+00,  5.93448106e-01],\n",
       "       [ 1.00770321e+00,  9.51441344e-01],\n",
       "       [-1.29672646e+00, -1.46480684e+00],\n",
       "       [ 8.49095752e-01,  9.47482431e-01],\n",
       "       [ 6.03962178e-01,  4.14845266e-01],\n",
       "       [-1.23659596e+00, -1.31271542e+00],\n",
       "       [-1.21580348e-01,  2.30356651e-01],\n",
       "       [-1.24426425e+00, -1.44213946e+00],\n",
       "       [ 1.45755358e+00,  6.51208977e-01],\n",
       "       [ 1.07104957e+00,  1.32066462e+00],\n",
       "       [ 4.65648683e-01, -3.85190998e-02],\n",
       "       [-8.73588222e-01,  1.29756500e+00],\n",
       "       [-1.74939522e-01,  3.77936309e-02],\n",
       "       [ 3.25476242e-01,  2.38007641e-01],\n",
       "       [-1.13958687e+00, -1.42914766e+00],\n",
       "       [ 1.51613673e+00,  1.00299965e+00],\n",
       "       [-7.44954541e-01, -1.30639540e+00],\n",
       "       [ 5.86897746e-01, -4.12015031e-01],\n",
       "       [ 2.61009853e-01, -2.88248581e-01],\n",
       "       [ 1.74754470e-01, -4.06889067e-01],\n",
       "       [-5.68488967e-01,  7.44233026e-01],\n",
       "       [ 8.14100741e-01,  2.35779878e-01],\n",
       "       [-1.53358770e+00, -8.79636436e-01],\n",
       "       [-1.14718500e+00, -2.00163445e+00],\n",
       "       [-1.11587842e+00, -1.50727709e+00],\n",
       "       [-1.42081423e+00, -7.66729877e-01],\n",
       "       [ 3.39472711e-01,  4.98498994e-01],\n",
       "       [ 5.11000741e-01,  3.97825095e-01],\n",
       "       [-1.21394448e+00, -1.70430910e+00],\n",
       "       [ 1.48730078e+00,  1.09818952e+00],\n",
       "       [-2.99237272e-01,  7.60681052e-01],\n",
       "       [-1.12567810e+00, -1.40740206e+00],\n",
       "       [ 1.91705464e+00,  3.13083464e-01],\n",
       "       [ 1.60396171e-01,  2.03627099e-01],\n",
       "       [-1.61604453e+00, -1.48195930e+00],\n",
       "       [ 7.14652015e-01,  1.23221070e-01],\n",
       "       [-1.59210549e-01, -4.44426882e-01],\n",
       "       [ 4.60953090e-01,  6.43342761e-01],\n",
       "       [ 2.26533222e-01,  2.78413208e-01],\n",
       "       [-1.36165836e+00, -1.30853742e+00],\n",
       "       [ 2.13094446e+00,  1.15058626e+00],\n",
       "       [-1.32162923e+00, -1.63969858e+00],\n",
       "       [-1.36554022e+00, -1.51138345e+00],\n",
       "       [ 1.42137067e+00,  2.08055088e-02],\n",
       "       [-5.88535208e-02,  8.03138756e-01],\n",
       "       [-3.49120443e-01,  6.96767929e-01],\n",
       "       [ 9.05115055e-01,  9.82109514e-01],\n",
       "       [-1.33124751e+00, -2.14980041e+00],\n",
       "       [ 1.24348018e+00,  6.21178170e-01],\n",
       "       [-2.01606976e-01,  9.39086825e-01],\n",
       "       [-7.99739853e-01,  1.21003685e+00],\n",
       "       [ 6.89153808e-01,  7.37605678e-01],\n",
       "       [ 2.39622408e-01,  9.44869639e-01],\n",
       "       [ 6.55020290e-01,  4.41061575e-01],\n",
       "       [-3.88049740e-01,  6.39769826e-01],\n",
       "       [ 1.78870585e-01, -1.25243160e-01],\n",
       "       [-6.93986745e-01,  8.48871721e-01],\n",
       "       [ 3.91778715e-01, -1.15179638e-01],\n",
       "       [ 1.48119075e+00,  5.31936498e-01],\n",
       "       [-7.23889400e-01,  1.27556530e+00],\n",
       "       [-6.72047524e-02, -5.32118724e-01],\n",
       "       [-1.43673014e+00, -1.68858933e+00],\n",
       "       [ 1.65799837e-02,  6.74376074e-01],\n",
       "       [-3.44356854e-01,  7.11436729e-01],\n",
       "       [-2.38035001e-01,  1.03229938e+00],\n",
       "       [ 5.79375329e-01, -1.28933360e-01],\n",
       "       [-1.23555312e+00, -1.83410364e+00],\n",
       "       [-2.29461735e+00, -1.05822986e+00],\n",
       "       [-3.28445594e-01,  6.79199355e-01],\n",
       "       [ 1.12398815e+00,  2.92722998e-01],\n",
       "       [-2.76894323e-01,  2.45346648e-01],\n",
       "       [ 1.20083418e+00,  1.08996084e+00],\n",
       "       [ 7.51779608e-01, -3.45807548e-01],\n",
       "       [-1.48207769e+00, -1.63793636e+00],\n",
       "       [ 1.47642855e+00,  1.41435118e-01],\n",
       "       [-1.40985865e+00, -1.28101127e+00],\n",
       "       [ 3.58796779e-01,  1.04316391e+00],\n",
       "       [ 2.04218028e-01,  9.10747543e-01],\n",
       "       [ 8.92372186e-01,  6.17286384e-01],\n",
       "       [ 2.02134205e-01,  3.74698966e-01],\n",
       "       [-1.09810389e+00, -1.77410162e+00],\n",
       "       [-2.69965570e-01,  8.26373206e-01],\n",
       "       [-5.63567785e-01,  9.29146798e-01],\n",
       "       [-2.06696108e-02,  1.42001785e+00],\n",
       "       [ 4.29800376e-02,  1.11637315e+00],\n",
       "       [ 4.75209008e-01, -6.71103874e-02],\n",
       "       [ 1.11592067e+00,  3.89305826e-01],\n",
       "       [ 7.70582748e-01, -5.51312223e-01],\n",
       "       [-1.16277207e+00,  8.82871364e-01],\n",
       "       [ 8.32820867e-01,  3.76815984e-01],\n",
       "       [ 9.69168263e-01,  1.05614612e+00],\n",
       "       [ 1.09361793e+00,  7.81208981e-01],\n",
       "       [ 7.43317131e-01, -4.55894157e-01],\n",
       "       [ 1.26142178e+00,  8.17153314e-01],\n",
       "       [ 8.00588052e-01, -1.62404232e-01],\n",
       "       [ 4.43561889e-02,  2.60560352e-01],\n",
       "       [-8.33615374e-01,  2.71648494e-01],\n",
       "       [-1.92913691e+00, -1.41489413e+00],\n",
       "       [-7.07573689e-01,  6.08725266e-01],\n",
       "       [ 1.96081887e-01, -3.88363047e-02],\n",
       "       [ 1.51726488e+00,  7.92308262e-01],\n",
       "       [-1.22990346e-01,  1.06814875e+00],\n",
       "       [ 1.26563804e+00, -3.67420123e-01],\n",
       "       [ 1.24895279e+00,  8.78991845e-01],\n",
       "       [ 7.42275107e-01, -8.53793356e-02],\n",
       "       [-4.52413178e-01,  9.13988087e-01],\n",
       "       [ 4.38247040e-01,  8.04883812e-01],\n",
       "       [ 4.81446105e-01,  3.86369028e-01],\n",
       "       [-9.31876041e-01,  4.98112346e-01],\n",
       "       [ 1.21065418e+00,  8.93112290e-01],\n",
       "       [ 6.78994056e-01,  7.89870443e-01],\n",
       "       [-6.49147749e-01, -1.82909526e+00],\n",
       "       [ 7.96308093e-01,  6.93242357e-01],\n",
       "       [-1.75565266e-01,  1.05146893e+00],\n",
       "       [-1.05145146e+00, -1.98350508e+00],\n",
       "       [-1.07936150e+00, -1.72784901e+00],\n",
       "       [ 2.94602318e-01,  1.33660516e+00],\n",
       "       [-1.29392321e+00, -1.26514049e+00],\n",
       "       [-1.48098867e+00, -2.01505115e+00],\n",
       "       [-1.28158434e+00, -8.24044824e-01],\n",
       "       [-1.39305517e+00, -1.79885676e+00],\n",
       "       [-1.72870967e+00, -2.08765387e+00],\n",
       "       [ 5.72513239e-01, -3.28167241e-01],\n",
       "       [-1.44626259e+00, -1.19621925e+00],\n",
       "       [ 1.51086074e+00,  8.47536544e-01],\n",
       "       [ 1.31022783e+00,  9.35761207e-01],\n",
       "       [-2.42006624e-01,  7.81878414e-01],\n",
       "       [-1.23117804e+00, -1.45621361e+00],\n",
       "       [ 5.87622352e-01,  4.09475459e-01],\n",
       "       [ 1.71696636e+00,  9.72314710e-01],\n",
       "       [ 1.44366705e+00,  1.10136263e+00],\n",
       "       [-1.31745056e+00, -1.14277547e+00],\n",
       "       [ 8.75940466e-01, -2.31288417e-01]])"
      ]
     },
     "execution_count": 42,
     "metadata": {},
     "output_type": "execute_result"
    }
   ],
   "source": [
    "data_scaled"
   ]
  },
  {
   "cell_type": "markdown",
   "metadata": {},
   "source": [
    "### Küme Sayısını Bulma\n",
    "\n",
    "Küme sayısını belirledik. Algoritmayı çalıştırdık. Algoritma her bir noktayı bir kümeye yerleştirdi. Her bir noktanın küme merkezine olan uzaklığının karesinin toplamını alıyoruz (**wcss-within clusters sum of squares yani noktaların merkezlere uzaklıklarının karelerinin toplamı**). Bunu her küme için yapıyoruz. Toplamda çıkan rakam ne kadar düşük ise kümeleme o kadar iyi çalışmış merkez noktalar ile kümeye dahil noktalar birbirine yakın durmuş demektir."
   ]
  },
  {
   "cell_type": "code",
   "execution_count": 43,
   "metadata": {},
   "outputs": [
    {
     "data": {
      "text/plain": [
       "[400.0,\n",
       " 124.45178163978889,\n",
       " 71.8783589639794,\n",
       " 42.18786354558244,\n",
       " 35.875963399747775,\n",
       " 31.61318412337719,\n",
       " 27.50118052317394,\n",
       " 24.28023992388482,\n",
       " 21.364637597734266,\n",
       " 19.608327547660274,\n",
       " 17.64063938224012,\n",
       " 15.88947260111845,\n",
       " 15.24420218627613,\n",
       " 13.986901646544847,\n",
       " 12.451558687478077,\n",
       " 11.989381393884614,\n",
       " 10.874712461628437,\n",
       " 10.613670795825646,\n",
       " 9.799374642616565,\n",
       " 9.077462772529458,\n",
       " 8.689470961173397,\n",
       " 8.232607412181885,\n",
       " 8.197636691739847,\n",
       " 7.654589308231413,\n",
       " 7.12315335364384,\n",
       " 6.806688929498464,\n",
       " 6.563613005899347,\n",
       " 6.364759940221963,\n",
       " 6.017193328564856]"
      ]
     },
     "execution_count": 43,
     "metadata": {},
     "output_type": "execute_result"
    }
   ],
   "source": [
    "wcss=[] \n",
    "\n",
    "for i in range(1,30):  \n",
    "        kmeans = KMeans(i)\n",
    "        kmeans.fit(data_scaled)\n",
    "        wcss.append(kmeans.inertia_) # inerita: her bir k değeri için wcss değerini bulur.\n",
    "wcss        "
   ]
  },
  {
   "cell_type": "code",
   "execution_count": 45,
   "metadata": {},
   "outputs": [
    {
     "data": {
      "text/plain": [
       "Text(0, 0.5, 'WCSS')"
      ]
     },
     "execution_count": 45,
     "metadata": {},
     "output_type": "execute_result"
    },
    {
     "data": {
      "image/png": "[encoded data removed]",
      "text/plain": [
       "<Figure size 432x288 with 1 Axes>"
      ]
     },
     "metadata": {},
     "output_type": "display_data"
    }
   ],
   "source": [
    "# Şimdi görselleştirerek ELBOW metoduna göre en uygun k değerini bulalım\n",
    "sns.set_style(\"darkgrid\")\n",
    "plt.plot(range(1,30),wcss,)\n",
    "plt.xlabel(\"K values\")\n",
    "plt.ylabel(\"WCSS\")"
   ]
  },
  {
   "cell_type": "markdown",
   "metadata": {},
   "source": [
    "**SONUÇTA ELBOW METODUNA GÖRE EN UYGU K DEĞERİ 4 ÇIKTI. ŞİMDİ K=4 YAPRAK MODELİ ÇALIŞTIRALIM.**"
   ]
  },
  {
   "cell_type": "code",
   "execution_count": 47,
   "metadata": {},
   "outputs": [],
   "source": [
    "kmeans=KMeans(4)\n",
    "kmeans.fit(data_scaled)\n",
    "model_pred = kmeans.predict(data_scaled)"
   ]
  },
  {
   "cell_type": "code",
   "execution_count": 50,
   "metadata": {},
   "outputs": [
    {
     "data": {
      "text/plain": [
       "Text(0.5, 1.0, 'Model Predict')"
      ]
     },
     "execution_count": 50,
     "metadata": {},
     "output_type": "execute_result"
    },
    {
     "data": {
      "image/png": "[encoded data removed]",
      "text/plain": [
       "<Figure size 720x432 with 2 Axes>"
      ]
     },
     "metadata": {},
     "output_type": "display_data"
    }
   ],
   "source": [
    "fig, (ax1,ax2) = plt.subplots(1,2,figsize=(10,6))\n",
    "\n",
    "ax1.scatter(data[0][:,0],data[0][:,1],c=data[1],cmap=\"rainbow\")\n",
    "ax1.set_title(\"Real Data\")\n",
    "\n",
    "ax2.scatter(data[0][:,0],data[0][:,1],c=model_pred,cmap=\"rainbow\")\n",
    "ax2.set_title(\"Model Predict\")"
   ]
  },
  {
   "cell_type": "code",
   "execution_count": 69,
   "metadata": {},
   "outputs": [
    {
     "data": {
      "text/html": [
       "<div>\n",
       "<style scoped>\n",
       "    .dataframe tbody tr th:only-of-type {\n",
       "        vertical-align: middle;\n",
       "    }\n",
       "\n",
       "    .dataframe tbody tr th {\n",
       "        vertical-align: top;\n",
       "    }\n",
       "\n",
       "    .dataframe thead th {\n",
       "        text-align: right;\n",
       "    }\n",
       "</style>\n",
       "<table border=\"1\" class=\"dataframe\">\n",
       "  <thead>\n",
       "    <tr style=\"text-align: right;\">\n",
       "      <th></th>\n",
       "      <th>x</th>\n",
       "      <th>y</th>\n",
       "    </tr>\n",
       "  </thead>\n",
       "  <tbody>\n",
       "    <tr>\n",
       "      <td>0</td>\n",
       "      <td>3</td>\n",
       "      <td>3</td>\n",
       "    </tr>\n",
       "    <tr>\n",
       "      <td>1</td>\n",
       "      <td>2</td>\n",
       "      <td>1</td>\n",
       "    </tr>\n",
       "    <tr>\n",
       "      <td>2</td>\n",
       "      <td>0</td>\n",
       "      <td>0</td>\n",
       "    </tr>\n",
       "    <tr>\n",
       "      <td>3</td>\n",
       "      <td>2</td>\n",
       "      <td>1</td>\n",
       "    </tr>\n",
       "    <tr>\n",
       "      <td>4</td>\n",
       "      <td>2</td>\n",
       "      <td>1</td>\n",
       "    </tr>\n",
       "    <tr>\n",
       "      <td>...</td>\n",
       "      <td>...</td>\n",
       "      <td>...</td>\n",
       "    </tr>\n",
       "    <tr>\n",
       "      <td>195</td>\n",
       "      <td>0</td>\n",
       "      <td>0</td>\n",
       "    </tr>\n",
       "    <tr>\n",
       "      <td>196</td>\n",
       "      <td>2</td>\n",
       "      <td>1</td>\n",
       "    </tr>\n",
       "    <tr>\n",
       "      <td>197</td>\n",
       "      <td>2</td>\n",
       "      <td>1</td>\n",
       "    </tr>\n",
       "    <tr>\n",
       "      <td>198</td>\n",
       "      <td>1</td>\n",
       "      <td>2</td>\n",
       "    </tr>\n",
       "    <tr>\n",
       "      <td>199</td>\n",
       "      <td>0</td>\n",
       "      <td>0</td>\n",
       "    </tr>\n",
       "  </tbody>\n",
       "</table>\n",
       "<p>200 rows × 2 columns</p>\n",
       "</div>"
      ],
      "text/plain": [
       "     x  y\n",
       "0    3  3\n",
       "1    2  1\n",
       "2    0  0\n",
       "3    2  1\n",
       "4    2  1\n",
       "..  .. ..\n",
       "195  0  0\n",
       "196  2  1\n",
       "197  2  1\n",
       "198  1  2\n",
       "199  0  0\n",
       "\n",
       "[200 rows x 2 columns]"
      ]
     },
     "execution_count": 69,
     "metadata": {},
     "output_type": "execute_result"
    }
   ],
   "source": [
    "sticked=pd.DataFrame({\"x\":data[1],\"y\":model_pred})\n",
    "sticked"
   ]
  },
  {
   "cell_type": "code",
   "execution_count": 80,
   "metadata": {},
   "outputs": [
    {
     "data": {
      "text/plain": [
       "3    50\n",
       "2    50\n",
       "1    50\n",
       "0    50\n",
       "Name: x, dtype: int64"
      ]
     },
     "execution_count": 80,
     "metadata": {},
     "output_type": "execute_result"
    }
   ],
   "source": [
    "sticked[\"x\"].value_counts()"
   ]
  },
  {
   "cell_type": "code",
   "execution_count": 90,
   "metadata": {},
   "outputs": [
    {
     "data": {
      "text/plain": [
       "(array([55.,  0.,  0., 49.,  0.,  0., 50.,  0.,  0., 46.]),\n",
       " array([0. , 0.3, 0.6, 0.9, 1.2, 1.5, 1.8, 2.1, 2.4, 2.7, 3. ]),\n",
       " <a list of 10 Patch objects>)"
      ]
     },
     "execution_count": 90,
     "metadata": {},
     "output_type": "execute_result"
    },
    {
     "data": {
      "image/png": "[encoded data removed]",
      "text/plain": [
       "<Figure size 432x288 with 1 Axes>"
      ]
     },
     "metadata": {
      "needs_background": "light"
     },
     "output_type": "display_data"
    }
   ],
   "source": [
    "plt.hist(sticked[\"x\"].values)\n",
    "plt.hist(sticked[\"y\"].values)"
   ]
  },
  {
   "cell_type": "code",
   "execution_count": null,
   "metadata": {},
   "outputs": [],
   "source": []
  }
 ],
 "metadata": {
  "kernelspec": {
   "display_name": "Python 3",
   "language": "python",
   "name": "python3"
  },
  "language_info": {
   "codemirror_mode": {
    "name": "ipython",
    "version": 3
   },
   "file_extension": ".py",
   "mimetype": "text/x-python",
   "name": "python",
   "nbconvert_exporter": "python",
   "pygments_lexer": "ipython3",
   "version": "3.7.9"
  }
 },
 "nbformat": 4,
 "nbformat_minor": 4
}
